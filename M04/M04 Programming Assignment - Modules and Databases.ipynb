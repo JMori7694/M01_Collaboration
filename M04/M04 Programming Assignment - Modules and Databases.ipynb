{
 "cells": [
  {
   "attachments": {},
   "cell_type": "markdown",
   "metadata": {},
   "source": [
    "## Chapter 11: Things to do"
   ]
  },
  {
   "attachments": {},
   "cell_type": "markdown",
   "metadata": {},
   "source": [
    "11.1 Then use the interactive interpreter to import the zoo module and call its hours() function."
   ]
  },
  {
   "cell_type": "code",
   "execution_count": 7,
   "metadata": {},
   "outputs": [
    {
     "name": "stdout",
     "output_type": "stream",
     "text": [
      "Open 9-5 daily\n"
     ]
    }
   ],
   "source": [
    "import zoo\n",
    "\n",
    "zoo.hours()"
   ]
  },
  {
   "attachments": {},
   "cell_type": "markdown",
   "metadata": {},
   "source": [
    "11.2 In the interactive interpreter, import the zoo module as menagerie and call its hours() function."
   ]
  },
  {
   "cell_type": "code",
   "execution_count": 8,
   "metadata": {},
   "outputs": [
    {
     "name": "stdout",
     "output_type": "stream",
     "text": [
      "Open 9-5 daily\n"
     ]
    }
   ],
   "source": [
    "import zoo as menagerie\n",
    "\n",
    "menagerie.hours()"
   ]
  },
  {
   "attachments": {},
   "cell_type": "markdown",
   "metadata": {},
   "source": [
    "## Chapter 16: Things to Do"
   ]
  },
  {
   "attachments": {},
   "cell_type": "markdown",
   "metadata": {},
   "source": [
    "16.3 Create a CSV file called books2.csv"
   ]
  },
  {
   "cell_type": "code",
   "execution_count": 20,
   "metadata": {},
   "outputs": [],
   "source": [
    "text = '''title,author,year\n",
    "    The Weirdstone of Brisingamen,Alan Garner,1960\n",
    "    Perdido Street Station,China Miéville,2000\n",
    "    Thud!,Terry Pratchett,2005\n",
    "    The Spellman Files,Lisa Lutz,2007\n",
    "    Small Gods, Terry Pratchett,1992'''\n",
    "\n",
    "with open('books2.csv', 'wt') as outfile:\n",
    "    outfile.write(text)"
   ]
  },
  {
   "attachments": {},
   "cell_type": "markdown",
   "metadata": {},
   "source": [
    "16.4 Use the sqlite3 module to create a SQLite database called books.db and a table called books with these fields: title (text), author(text), and year (integer)."
   ]
  },
  {
   "cell_type": "code",
   "execution_count": 24,
   "metadata": {},
   "outputs": [
    {
     "data": {
      "text/plain": [
       "<sqlite3.Cursor at 0x10f620880>"
      ]
     },
     "execution_count": 24,
     "metadata": {},
     "output_type": "execute_result"
    }
   ],
   "source": [
    "import sqlite3\n",
    "\n",
    "db = sqlite3.connect('books.db')\n",
    "curs = db.cursor()\n",
    "curs.execute('''create table book (title text, author text, year integer)''')"
   ]
  },
  {
   "attachments": {},
   "cell_type": "markdown",
   "metadata": {},
   "source": [
    "16.5 Read books2.csv and insert its data in the book table."
   ]
  },
  {
   "cell_type": "code",
   "execution_count": 3,
   "metadata": {},
   "outputs": [],
   "source": [
    "import csv\n",
    "import sqlite3\n",
    "ins_str = 'insert into book values(?, ?, ?)'\n",
    "db = sqlite3.connect('books.db') # from 16.4\n",
    "curs = db.cursor() # from 16.4\n",
    "with open('books2.csv', 'rt') as infile:\n",
    "    books = csv.DictReader(infile)\n",
    "    for book in books:\n",
    "        curs.execute(ins_str, (book['title'], book['author'], book['year']))"
   ]
  },
  {
   "attachments": {},
   "cell_type": "markdown",
   "metadata": {},
   "source": [
    "16.8 Use sqlalchemy module to connect to the sqlite3 database books.db that you just made in exercise 16.4. Select and print the title column from the book table in alphabetical order."
   ]
  },
  {
   "cell_type": "code",
   "execution_count": 4,
   "metadata": {},
   "outputs": [
    {
     "ename": "ModuleNotFoundError",
     "evalue": "No module named 'sqlalchemy'",
     "output_type": "error",
     "traceback": [
      "\u001b[0;31m---------------------------------------------------------------------------\u001b[0m",
      "\u001b[0;31mModuleNotFoundError\u001b[0m                       Traceback (most recent call last)",
      "Cell \u001b[0;32mIn[4], line 1\u001b[0m\n\u001b[0;32m----> 1\u001b[0m \u001b[39mimport\u001b[39;00m \u001b[39msqlalchemy\u001b[39;00m\n\u001b[1;32m      2\u001b[0m conn \u001b[39m=\u001b[39m sqlalchemy\u001b[39m.\u001b[39mcreate_engine(\u001b[39m'\u001b[39m\u001b[39msqlite://books.db\u001b[39m\u001b[39m'\u001b[39m)\n\u001b[1;32m      3\u001b[0m sql \u001b[39m=\u001b[39m \u001b[39m'\u001b[39m\u001b[39mselect title from book order by title asc\u001b[39m\u001b[39m'\u001b[39m\n",
      "\u001b[0;31mModuleNotFoundError\u001b[0m: No module named 'sqlalchemy'"
     ]
    }
   ],
   "source": [
    "import sqlalchemy\n",
    "conn = sqlalchemy.create_engine('sqlite://books.db')\n",
    "sql = 'select title from book order by title asc'\n",
    "rows = conn.execute(sql)\n",
    "for row in rows:\n",
    "    print(row)"
   ]
  }
 ],
 "metadata": {
  "kernelspec": {
   "display_name": "Python 3",
   "language": "python",
   "name": "python3"
  },
  "language_info": {
   "codemirror_mode": {
    "name": "ipython",
    "version": 3
   },
   "file_extension": ".py",
   "mimetype": "text/x-python",
   "name": "python",
   "nbconvert_exporter": "python",
   "pygments_lexer": "ipython3",
   "version": "3.8.1"
  },
  "orig_nbformat": 4,
  "vscode": {
   "interpreter": {
    "hash": "aee8b7b246df8f9039afb4144a1f6fd8d2ca17a180786b69acc140d282b71a49"
   }
  }
 },
 "nbformat": 4,
 "nbformat_minor": 2
}
