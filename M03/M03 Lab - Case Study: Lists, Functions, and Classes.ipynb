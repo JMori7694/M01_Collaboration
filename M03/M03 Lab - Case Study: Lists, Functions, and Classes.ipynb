{
 "cells": [
  {
   "attachments": {},
   "cell_type": "markdown",
   "metadata": {},
   "source": [
    "Write a Python app that has the following classes:\n",
    "A super class called Vehicle, which contains an attribute for vehicle type, such as car, truck, plane, boat, or a broomstick.\n",
    "A class called Automobile which will inherit the attributes from Vehicle and also contain the following attributes:\n",
    "year\n",
    "make\n",
    "model\n",
    "doors (2 or 4)\n",
    "roof (solid or sun roof).\n",
    "Write an app that will accept user input for a car. The app will store \"car\" into the vehicle type in your Vehicle super class. \n",
    "The app will then ask the user for the year, make, model, doors, and type of roof and store thdata in the attributes above.\n",
    "The app will then output the data in an easy-to-read and understandable format, such as this:\n",
    "  Vehicle type: car\n",
    "  Year: 2022\n",
    "  Make: Toyota\n",
    "  Model: Corolla\n",
    "  Number of doors: 4\n",
    "  Type of roof: sun roof"
   ]
  },
  {
   "cell_type": "code",
   "execution_count": 19,
   "metadata": {},
   "outputs": [
    {
     "name": "stdout",
     "output_type": "stream",
     "text": [
      "Vehicle Type:  car\n",
      "Year:  2022\n",
      "Make:  Toyota\n",
      "Model:  Corolla\n",
      "Number of doors:  4\n",
      "Type of roof:  sun roof\n"
     ]
    }
   ],
   "source": [
    "class Vehicle():\n",
    "    vehicle_type = input(\"What type of vehicle do you have?\")\n",
    "    pass\n",
    "    \n",
    "class Automobile(Vehicle):\n",
    "    year = input(\"What year is the car?\")\n",
    "    make = input(\"What make is the car?\")\n",
    "    model = input(\"What model is the car?\")\n",
    "    door = input(\"How many doors does the car have? (2 or 4)\")\n",
    "    roof = input(\"What type of roof does the car have? (solid or sun roof)\")\n",
    "    pass\n",
    "\n",
    "\n",
    "print('Vehicle Type: ', Automobile.vehicle_type)\n",
    "print('Year: ', Automobile.year)\n",
    "print('Make: ', Automobile.make)\n",
    "print('Model: ', Automobile.model)\n",
    "print('Number of doors: ', Automobile.door)\n",
    "print('Type of roof: ', Automobile.roof)"
   ]
  }
 ],
 "metadata": {
  "kernelspec": {
   "display_name": "Python 3",
   "language": "python",
   "name": "python3"
  },
  "language_info": {
   "codemirror_mode": {
    "name": "ipython",
    "version": 3
   },
   "file_extension": ".py",
   "mimetype": "text/x-python",
   "name": "python",
   "nbconvert_exporter": "python",
   "pygments_lexer": "ipython3",
   "version": "3.8.1"
  },
  "orig_nbformat": 4,
  "vscode": {
   "interpreter": {
    "hash": "aee8b7b246df8f9039afb4144a1f6fd8d2ca17a180786b69acc140d282b71a49"
   }
  }
 },
 "nbformat": 4,
 "nbformat_minor": 2
}
