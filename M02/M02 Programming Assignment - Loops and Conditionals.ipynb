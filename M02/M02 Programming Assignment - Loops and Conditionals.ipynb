## Chapter 4 Things to do
