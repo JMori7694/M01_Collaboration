{
 "cells": [
  {
   "attachments": {},
   "cell_type": "markdown",
   "metadata": {},
   "source": [
    "#### Sarah L.\n",
    "#### M02 Lab - Case Study: if...else and while\n",
    "#### Tell if students are on the Dean's List or Honor Roll"
   ]
  },
  {
   "cell_type": "code",
   "execution_count": 7,
   "metadata": {},
   "outputs": [
    {
     "name": "stdout",
     "output_type": "stream",
     "text": [
      "Daisy Beuter has made th Dean's List.\n"
     ]
    }
   ],
   "source": [
    "last_name = str(input(\"Please enter the student's last name\"))\n",
    "while True:\n",
    "    if last_name == 'ZZZ':\n",
    "        break\n",
    "    else:\n",
    "        first_name = str(input(\"Please enter the student's first name\"))\n",
    "        GPA = float(input(\"Please enter student's GPA\"))\n",
    "        if GPA > 3.5:\n",
    "            print(first_name + ' ' + last_name + \" has made th Dean's List.\")\n",
    "            break\n",
    "        elif GPA > 3.25:\n",
    "            print(first_name + ' ' + last_name + \" has made the Honor Roll.\")\n",
    "            break\n",
    "        else:\n",
    "            print(first_name + ' ' + last_name + \" is not on the Dean's List or Honor Roll.\")\n",
    "            break"
   ]
  }
 ],
 "metadata": {
  "kernelspec": {
   "display_name": "Python 3",
   "language": "python",
   "name": "python3"
  },
  "language_info": {
   "codemirror_mode": {
    "name": "ipython",
    "version": 3
   },
   "file_extension": ".py",
   "mimetype": "text/x-python",
   "name": "python",
   "nbconvert_exporter": "python",
   "pygments_lexer": "ipython3",
   "version": "3.8.1"
  },
  "orig_nbformat": 4,
  "vscode": {
   "interpreter": {
    "hash": "aee8b7b246df8f9039afb4144a1f6fd8d2ca17a180786b69acc140d282b71a49"
   }
  }
 },
 "nbformat": 4,
 "nbformat_minor": 2
}
