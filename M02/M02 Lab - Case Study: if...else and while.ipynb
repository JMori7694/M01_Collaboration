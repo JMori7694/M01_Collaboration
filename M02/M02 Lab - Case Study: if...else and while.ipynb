{
 "cells": [
  {
   "attachments": {},
   "cell_type": "markdown",
   "metadata": {},
   "source": [
    "#### Sarah L.\n",
    "#### M02 Lab - Case Study: if...else and while\n",
    "#### Tell if students are on the Dean's List or Honor Roll"
   ]
  },
  {
   "cell_type": "code",
   "execution_count": null,
   "metadata": {},
   "outputs": [],
   "source": [
    "last_name = str(input(\"Please enter the student's last name\"))\n",
    "while True:\n",
    "    if last_name == 'ZZZ':\n",
    "        break\n",
    "    else:\n",
    "        first_name = str(input(\"Please enter the student's first name\"))\n",
    "        GPA = float(input(\"Please enter student's GPA\"))\n",
    "        if GPA > 3.5:\n",
    "            GPA = str(GPA)\n",
    "            print(first_name + ' ' + last_name + \" has made the Dean's List with a \" + GPA +\" GPA.\")\n",
    "            break\n",
    "        elif GPA > 3.25:\n",
    "            GPA = str(GPA)\n",
    "            print(first_name + ' ' + last_name + \" has made the Honor Roll with a \" + GPA +\" GPA.\")\n",
    "            break\n",
    "        else:\n",
    "            GPA = str(GPA)\n",
    "            print(first_name + ' ' + last_name + \" is not on the Dean's List or Honor Roll with a \" + GPA +\" GPA.\")\n",
    "            break"
   ]
  }
 ],
 "metadata": {
  "kernelspec": {
   "display_name": "Python 3",
   "language": "python",
   "name": "python3"
  },
  "language_info": {
   "codemirror_mode": {
    "name": "ipython",
    "version": 3
   },
   "file_extension": ".py",
   "mimetype": "text/x-python",
   "name": "python",
   "nbconvert_exporter": "python",
   "pygments_lexer": "ipython3",
   "version": "3.8.1"
  },
  "orig_nbformat": 4,
  "vscode": {
   "interpreter": {
    "hash": "aee8b7b246df8f9039afb4144a1f6fd8d2ca17a180786b69acc140d282b71a49"
   }
  }
 },
 "nbformat": 4,
 "nbformat_minor": 2
}
